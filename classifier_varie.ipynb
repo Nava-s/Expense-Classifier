{
 "cells": [
  {
   "cell_type": "code",
   "execution_count": 1,
   "metadata": {},
   "outputs": [
    {
     "name": "stderr",
     "output_type": "stream",
     "text": [
      "c:\\Users\\antonio.proietti\\AppData\\Local\\Programs\\Python\\Python310\\lib\\site-packages\\tqdm\\auto.py:22: TqdmWarning: IProgress not found. Please update jupyter and ipywidgets. See https://ipywidgets.readthedocs.io/en/stable/user_install.html\n",
      "  from .autonotebook import tqdm as notebook_tqdm\n"
     ]
    },
    {
     "name": "stdout",
     "output_type": "stream",
     "text": [
      "WARNING:tensorflow:From c:\\Users\\antonio.proietti\\AppData\\Local\\Programs\\Python\\Python310\\lib\\site-packages\\keras\\src\\losses.py:2976: The name tf.losses.sparse_softmax_cross_entropy is deprecated. Please use tf.compat.v1.losses.sparse_softmax_cross_entropy instead.\n",
      "\n"
     ]
    }
   ],
   "source": [
    "import pandas as pd\n",
    "import polars as pl\n",
    "from transformers import pipeline"
   ]
  },
  {
   "cell_type": "code",
   "execution_count": null,
   "metadata": {},
   "outputs": [],
   "source": [
    "\n",
    "# Load file\n",
    "df = pl.read_excel('data.xlsx')\n",
    "df = df.to_pandas()\n",
    "data = df.copy()\n"
   ]
  },
  {
   "cell_type": "code",
   "execution_count": 3,
   "metadata": {},
   "outputs": [],
   "source": [
    "data = data[['CID','Nominativo','Mese','Progressivo','Descrizione']]\n",
    "data.dropna(inplace=True)"
   ]
  },
  {
   "cell_type": "code",
   "execution_count": 4,
   "metadata": {},
   "outputs": [
    {
     "data": {
      "text/plain": [
       "(4242, 5)"
      ]
     },
     "execution_count": 4,
     "metadata": {},
     "output_type": "execute_result"
    }
   ],
   "source": [
    "data.shape"
   ]
  },
  {
   "cell_type": "code",
   "execution_count": 5,
   "metadata": {},
   "outputs": [],
   "source": [
    "from sentence_transformers import SentenceTransformer\n",
    "model = SentenceTransformer('sentence-transformers/paraphrase-multilingual-MiniLM-L12-v2')"
   ]
  },
  {
   "cell_type": "code",
   "execution_count": null,
   "metadata": {},
   "outputs": [],
   "source": [
    "\n",
    "# categories and descriptions\n",
    "categorie = {\n",
    "    'Alimentari': ['caffè', 'ristorante', 'snack', 'colazione', 'pranzo', 'cena', 'aperitivo', 'pizzeria', 'bar', 'fast food', 'bevande', 'dolci', 'ristorazione', 'spesa alimentare'],\n",
    "    'Tassa di soggiorno': ['hotel', 'pernottamento', 'tassa di soggiorno','tassa', 'affitto breve', 'bed and breakfast', 'residence', 'ostello', 'alloggio'],\n",
    "    'Trasporti': ['biglietto treno', 'taxi', 'volo aereo', 'noleggio auto', 'autobus', 'metropolitana', 'car sharing', 'pedaggi', 'carburante', 'benzina', 'diesel', 'parcheggio','automobile'],\n",
    "    'Materiale per ufficio': ['cancelleria', 'stampante', 'carta', 'penne', 'scrivania', 'quaderni', 'cartucce', 'computer', 'tastiera', 'mouse', 'monitor', 'forniture ufficio', 'sedie', 'archivio'],\n",
    "    'Spese di rappresentanza': ['regalo aziendale', 'evento lavoro', 'omaggi per clienti', 'cena di lavoro', 'pranzi con clienti', 'biglietti evento', 'convegno', 'networking','offferto a clienti','offerto a fornitori','offerto a verificatori'],\n",
    "    'Formazione': ['corso', 'seminario', 'workshop', 'lezione', 'webinar', 'master', 'conferenza', 'certificazione', 'materiale didattico', 'libri di testo'],\n",
    "    'Telefonia e internet': ['abbonamento telefonico', 'ricarica', 'bolletta internet', 'sim aziendale', 'wifi', 'fibra ottica', 'dati mobili'],\n",
    "    'Servizi professionali': ['consulenza', 'parcella avvocato', 'parcella commercialista', 'traduzioni', 'servizi legali', 'revisione contabile', 'coaching', 'formazione avanzata'],\n",
    "    'Marketing e pubblicità': ['campagna pubblicitaria', 'sponsorizzazione', 'social media', 'volantini', 'brochure', 'inserzioni', 'branding', 'eventi promozionali'],\n",
    "    'Manutenzione': ['riparazione', 'assistenza tecnica', 'manutenzione auto', 'interventi tecnici', 'sostituzione componenti', 'pulizia uffici'],\n",
    "    'Spese sanitarie': ['visita medica', 'assicurazione sanitaria', 'occhiali', 'medicinali', 'check-up', 'vaccinazioni'],\n",
    "    'Altro': ['varie', 'spese generiche', 'non specificato', 'extra', 'diverse']\n",
    "}\n"
   ]
  },
  {
   "cell_type": "code",
   "execution_count": 7,
   "metadata": {},
   "outputs": [],
   "source": [
    "from sklearn.metrics.pairwise import cosine_similarity"
   ]
  },
  {
   "cell_type": "code",
   "execution_count": null,
   "metadata": {},
   "outputs": [],
   "source": [
    "#creating embeddings for each category\n",
    "categoria_embeddings = {\n",
    "    categoria: model.encode(frasi) for categoria, frasi in categorie.items()\n",
    "}\n",
    "\n",
    "# Function to clsassify expenses using cosine similarity\n",
    "def classifica_spesa(descrizione):\n",
    "    if pd.isna(descrizione) or not isinstance(descrizione, str):\n",
    "        return 'Non classificato'\n",
    "\n",
    "    descrizione_embedding = model.encode(descrizione)\n",
    "    similarita_max = 0\n",
    "    categoria_migliore = 'Altro'\n",
    "\n",
    "    for categoria, embeddings in categoria_embeddings.items():\n",
    "        for emb in embeddings:\n",
    "            similarita = cosine_similarity([descrizione_embedding], [emb])[0][0]\n",
    "            if similarita > similarita_max:\n",
    "                similarita_max = similarita\n",
    "                categoria_migliore = categoria\n",
    "\n",
    "    return categoria_migliore"
   ]
  },
  {
   "cell_type": "code",
   "execution_count": 9,
   "metadata": {},
   "outputs": [
    {
     "data": {
      "text/plain": [
       "2      TASSA DI SOGGIORNO\n",
       "49        TASSA SOGGIORNO\n",
       "63        TASSA SOGGIORNO\n",
       "87     TASSA DI SOGGIORNO\n",
       "178                 VARIE\n",
       "Name: Descrizione, dtype: object"
      ]
     },
     "execution_count": 9,
     "metadata": {},
     "output_type": "execute_result"
    }
   ],
   "source": [
    "data['Descrizione'].head()"
   ]
  },
  {
   "cell_type": "code",
   "execution_count": 10,
   "metadata": {},
   "outputs": [
    {
     "data": {
      "text/plain": [
       "'Alimentari'"
      ]
     },
     "execution_count": 10,
     "metadata": {},
     "output_type": "execute_result"
    }
   ],
   "source": [
    "classifica_spesa('TASSA DI SOGGIORNO')"
   ]
  },
  {
   "cell_type": "markdown",
   "metadata": {},
   "source": [
    "We need to put everything in lower case"
   ]
  },
  {
   "cell_type": "code",
   "execution_count": 23,
   "metadata": {},
   "outputs": [
    {
     "name": "stdout",
     "output_type": "stream",
     "text": [
      "\n",
      " Tassa di soggiorno \n",
      " Alimentari \n",
      " Manutenzione \n",
      "\n"
     ]
    }
   ],
   "source": [
    "print('\\n',classifica_spesa('tassa di soggiorno'),'\\n',\n",
    "    classifica_spesa('hamburger e patatine fritte'),'\\n',\n",
    "    classifica_spesa('riparazione motore'),'\\n',)"
   ]
  },
  {
   "cell_type": "code",
   "execution_count": 11,
   "metadata": {},
   "outputs": [],
   "source": [
    "data = pl.from_pandas(data)"
   ]
  },
  {
   "cell_type": "code",
   "execution_count": 12,
   "metadata": {},
   "outputs": [
    {
     "name": "stderr",
     "output_type": "stream",
     "text": [
      "C:\\Users\\antonio.proietti\\AppData\\Local\\Temp\\ipykernel_16232\\3876612162.py:1: MapWithoutReturnDtypeWarning: Calling `map_elements` without specifying `return_dtype` can lead to unpredictable results. Specify `return_dtype` to silence this warning.\n",
      "  data = data.with_columns(pl.col(\"Descrizione\").map_elements(str.lower))\n"
     ]
    }
   ],
   "source": [
    "data = data.with_columns(pl.col(\"Descrizione\").map_elements(str.lower))"
   ]
  },
  {
   "cell_type": "code",
   "execution_count": 13,
   "metadata": {},
   "outputs": [
    {
     "name": "stderr",
     "output_type": "stream",
     "text": [
      "C:\\Users\\antonio.proietti\\AppData\\Local\\Temp\\ipykernel_16232\\1975405480.py:1: MapWithoutReturnDtypeWarning: Calling `map_elements` without specifying `return_dtype` can lead to unpredictable results. Specify `return_dtype` to silence this warning.\n",
      "  data = data.with_columns(pl.col(\"Descrizione\").map_elements(classifica_spesa).alias(\"classificazione\"))\n"
     ]
    }
   ],
   "source": [
    "data = data.with_columns(pl.col(\"Descrizione\").map_elements(classifica_spesa).alias(\"classificazione\"))"
   ]
  },
  {
   "cell_type": "code",
   "execution_count": 24,
   "metadata": {},
   "outputs": [
    {
     "name": "stdout",
     "output_type": "stream",
     "text": [
      "Classificazione avanzata completata!\n"
     ]
    }
   ],
   "source": [
    "\n",
    "# Salva il risultato\n",
    "data.write_excel('spese_classificate_avanzate.xlsx')\n",
    "print(\"Classificazione avanzata completata!\")\n"
   ]
  }
 ],
 "metadata": {
  "kernelspec": {
   "display_name": "Python 3",
   "language": "python",
   "name": "python3"
  },
  "language_info": {
   "codemirror_mode": {
    "name": "ipython",
    "version": 3
   },
   "file_extension": ".py",
   "mimetype": "text/x-python",
   "name": "python",
   "nbconvert_exporter": "python",
   "pygments_lexer": "ipython3",
   "version": "3.10.5"
  }
 },
 "nbformat": 4,
 "nbformat_minor": 2
}
